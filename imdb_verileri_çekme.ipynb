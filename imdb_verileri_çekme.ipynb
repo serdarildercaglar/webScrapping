{
 "cells": [
  {
   "cell_type": "code",
   "execution_count": 1,
   "id": "cef8d2c6",
   "metadata": {},
   "outputs": [],
   "source": [
    "import requests\n",
    "from bs4 import BeautifulSoup"
   ]
  },
  {
   "cell_type": "code",
   "execution_count": 2,
   "id": "ae54c8c5",
   "metadata": {},
   "outputs": [],
   "source": [
    "url = \"https://www.imdb.com/chart/top/?ref_=nv_mv_250\""
   ]
  },
  {
   "cell_type": "code",
   "execution_count": 16,
   "id": "3c798527",
   "metadata": {},
   "outputs": [],
   "source": [
    "html = requests.get(url).content"
   ]
  },
  {
   "cell_type": "code",
   "execution_count": 19,
   "id": "b8ccb3a7",
   "metadata": {},
   "outputs": [],
   "source": [
    "soup = BeautifulSoup(html, \"html.parser\")"
   ]
  },
  {
   "cell_type": "code",
   "execution_count": 27,
   "id": "5cdef9ac",
   "metadata": {},
   "outputs": [],
   "source": [
    "liste = soup.find(\"tbody\",{\"class\":\"lister-list\"}).find_all(\"tr\")"
   ]
  },
  {
   "cell_type": "code",
   "execution_count": 34,
   "id": "92e7d4d1",
   "metadata": {},
   "outputs": [],
   "source": [
    "title = []\n",
    "for tr in liste:\n",
    "    film_title = tr.find(\"td\",{\"class\":\"titleColumn\"}).find(\"a\").text\n",
    "    title.append(film_title)"
   ]
  },
  {
   "cell_type": "code",
   "execution_count": 35,
   "id": "1a0b3c86",
   "metadata": {},
   "outputs": [
    {
     "data": {
      "text/plain": [
       "250"
      ]
     },
     "execution_count": 35,
     "metadata": {},
     "output_type": "execute_result"
    }
   ],
   "source": [
    "len(title)"
   ]
  },
  {
   "cell_type": "code",
   "execution_count": 40,
   "id": "9dbcfd4d",
   "metadata": {},
   "outputs": [
    {
     "data": {
      "text/plain": [
       "['9.2', '9.1', '9.0', '9.0', '8.9']"
      ]
     },
     "execution_count": 40,
     "metadata": {},
     "output_type": "execute_result"
    }
   ],
   "source": [
    "liste_rating = []\n",
    "for tr in liste:\n",
    "    liste_rating.append(tr.find(\"td\",{\"class\":\"ratingColumn imdbRating\"}).find(\"strong\").text)\n",
    "liste_rating[:5]    "
   ]
  },
  {
   "cell_type": "code",
   "execution_count": 41,
   "id": "20ec78e8",
   "metadata": {},
   "outputs": [
    {
     "data": {
      "text/plain": [
       "250"
      ]
     },
     "execution_count": 41,
     "metadata": {},
     "output_type": "execute_result"
    }
   ],
   "source": [
    "len(liste_rating)"
   ]
  },
  {
   "cell_type": "code",
   "execution_count": 50,
   "id": "ddb2b2bf",
   "metadata": {},
   "outputs": [
    {
     "data": {
      "text/plain": [
       "['9.2 based on 2,516,822 user ratings',\n",
       " '9.1 based on 1,733,380 user ratings',\n",
       " '9.0 based on 1,202,833 user ratings',\n",
       " '9.0 based on 2,467,101 user ratings',\n",
       " '8.9 based on 743,280 user ratings']"
      ]
     },
     "execution_count": 50,
     "metadata": {},
     "output_type": "execute_result"
    }
   ],
   "source": [
    "user_ratings = []\n",
    "for tr in liste:\n",
    "    user_ratings.append(tr.find(\"td\",{\"class\":\"ratingColumn imdbRating\"}).find(\"strong\")[\"title\"])\n",
    "user_ratings[:5]"
   ]
  },
  {
   "cell_type": "code",
   "execution_count": 82,
   "id": "e4a8b2ed",
   "metadata": {},
   "outputs": [
    {
     "data": {
      "text/plain": [
       "['(1994)', '(1972)', '(1974)', '(2008)', '(1957)']"
      ]
     },
     "execution_count": 82,
     "metadata": {},
     "output_type": "execute_result"
    }
   ],
   "source": [
    "year = []\n",
    "for tr in liste:\n",
    "    year.append(tr.find(\"td\",{\"class\":\"titleColumn\"}).find(\"span\",{\"class\":\"secondaryInfo\"}).text)\n",
    "year[:5]"
   ]
  },
  {
   "cell_type": "code",
   "execution_count": 83,
   "id": "16d99214",
   "metadata": {},
   "outputs": [
    {
     "data": {
      "text/plain": [
       "250"
      ]
     },
     "execution_count": 83,
     "metadata": {},
     "output_type": "execute_result"
    }
   ],
   "source": [
    "len(year)"
   ]
  },
  {
   "cell_type": "code",
   "execution_count": 84,
   "id": "1a8e4423",
   "metadata": {},
   "outputs": [
    {
     "data": {
      "text/plain": [
       "['Frank Darabont (dir.), Tim Robbins, Morgan Freeman',\n",
       " 'Francis Ford Coppola (dir.), Marlon Brando, Al Pacino',\n",
       " 'Francis Ford Coppola (dir.), Al Pacino, Robert De Niro',\n",
       " 'Christopher Nolan (dir.), Christian Bale, Heath Ledger',\n",
       " 'Sidney Lumet (dir.), Henry Fonda, Lee J. Cobb']"
      ]
     },
     "execution_count": 84,
     "metadata": {},
     "output_type": "execute_result"
    }
   ],
   "source": [
    "director_actors = []\n",
    "for tr in liste:\n",
    "    director_actors.append(tr.find(\"td\",{\"class\":\"titleColumn\"}).find(\"a\")[\"title\"])\n",
    "director_actors[:5]"
   ]
  },
  {
   "cell_type": "code",
   "execution_count": 52,
   "id": "5c7b41e0",
   "metadata": {},
   "outputs": [],
   "source": [
    "import pandas as pd"
   ]
  },
  {
   "cell_type": "code",
   "execution_count": 85,
   "id": "504549bb",
   "metadata": {},
   "outputs": [],
   "source": [
    "data = [title,director_actors,year,liste_rating,user_ratings]"
   ]
  },
  {
   "cell_type": "code",
   "execution_count": 86,
   "id": "1b4e0756",
   "metadata": {},
   "outputs": [],
   "source": [
    "a = pd.DataFrame(data)"
   ]
  },
  {
   "cell_type": "code",
   "execution_count": 87,
   "id": "369ae2f0",
   "metadata": {},
   "outputs": [
    {
     "data": {
      "text/html": [
       "<div>\n",
       "<style scoped>\n",
       "    .dataframe tbody tr th:only-of-type {\n",
       "        vertical-align: middle;\n",
       "    }\n",
       "\n",
       "    .dataframe tbody tr th {\n",
       "        vertical-align: top;\n",
       "    }\n",
       "\n",
       "    .dataframe thead th {\n",
       "        text-align: right;\n",
       "    }\n",
       "</style>\n",
       "<table border=\"1\" class=\"dataframe\">\n",
       "  <thead>\n",
       "    <tr style=\"text-align: right;\">\n",
       "      <th></th>\n",
       "      <th>0</th>\n",
       "      <th>1</th>\n",
       "      <th>2</th>\n",
       "      <th>3</th>\n",
       "      <th>4</th>\n",
       "    </tr>\n",
       "  </thead>\n",
       "  <tbody>\n",
       "    <tr>\n",
       "      <th>0</th>\n",
       "      <td>The Shawshank Redemption</td>\n",
       "      <td>Frank Darabont (dir.), Tim Robbins, Morgan Fre...</td>\n",
       "      <td>(1994)</td>\n",
       "      <td>9.2</td>\n",
       "      <td>9.2 based on 2,516,822 user ratings</td>\n",
       "    </tr>\n",
       "    <tr>\n",
       "      <th>1</th>\n",
       "      <td>The Godfather</td>\n",
       "      <td>Francis Ford Coppola (dir.), Marlon Brando, Al...</td>\n",
       "      <td>(1972)</td>\n",
       "      <td>9.1</td>\n",
       "      <td>9.1 based on 1,733,380 user ratings</td>\n",
       "    </tr>\n",
       "    <tr>\n",
       "      <th>2</th>\n",
       "      <td>The Godfather: Part II</td>\n",
       "      <td>Francis Ford Coppola (dir.), Al Pacino, Robert...</td>\n",
       "      <td>(1974)</td>\n",
       "      <td>9.0</td>\n",
       "      <td>9.0 based on 1,202,833 user ratings</td>\n",
       "    </tr>\n",
       "    <tr>\n",
       "      <th>3</th>\n",
       "      <td>The Dark Knight</td>\n",
       "      <td>Christopher Nolan (dir.), Christian Bale, Heat...</td>\n",
       "      <td>(2008)</td>\n",
       "      <td>9.0</td>\n",
       "      <td>9.0 based on 2,467,101 user ratings</td>\n",
       "    </tr>\n",
       "    <tr>\n",
       "      <th>4</th>\n",
       "      <td>12 Angry Men</td>\n",
       "      <td>Sidney Lumet (dir.), Henry Fonda, Lee J. Cobb</td>\n",
       "      <td>(1957)</td>\n",
       "      <td>8.9</td>\n",
       "      <td>8.9 based on 743,280 user ratings</td>\n",
       "    </tr>\n",
       "    <tr>\n",
       "      <th>...</th>\n",
       "      <td>...</td>\n",
       "      <td>...</td>\n",
       "      <td>...</td>\n",
       "      <td>...</td>\n",
       "      <td>...</td>\n",
       "    </tr>\n",
       "    <tr>\n",
       "      <th>245</th>\n",
       "      <td>La battaglia di Algeri</td>\n",
       "      <td>Gillo Pontecorvo (dir.), Brahim Hadjadj, Jean ...</td>\n",
       "      <td>(1966)</td>\n",
       "      <td>8.0</td>\n",
       "      <td>8.0 based on 57,765 user ratings</td>\n",
       "    </tr>\n",
       "    <tr>\n",
       "      <th>246</th>\n",
       "      <td>Le notti di Cabiria</td>\n",
       "      <td>Federico Fellini (dir.), Giulietta Masina, Fra...</td>\n",
       "      <td>(1957)</td>\n",
       "      <td>8.0</td>\n",
       "      <td>8.0 based on 47,047 user ratings</td>\n",
       "    </tr>\n",
       "    <tr>\n",
       "      <th>247</th>\n",
       "      <td>The Princess Bride</td>\n",
       "      <td>Rob Reiner (dir.), Cary Elwes, Mandy Patinkin</td>\n",
       "      <td>(1987)</td>\n",
       "      <td>8.0</td>\n",
       "      <td>8.0 based on 414,694 user ratings</td>\n",
       "    </tr>\n",
       "    <tr>\n",
       "      <th>248</th>\n",
       "      <td>Drishyam</td>\n",
       "      <td>Jeethu Joseph (dir.), Mohanlal, Meena</td>\n",
       "      <td>(2013)</td>\n",
       "      <td>8.0</td>\n",
       "      <td>8.0 based on 38,919 user ratings</td>\n",
       "    </tr>\n",
       "    <tr>\n",
       "      <th>249</th>\n",
       "      <td>Ratsasan</td>\n",
       "      <td>Ram Kumar (dir.), Vishnu Vishal, Amala Paul</td>\n",
       "      <td>(2018)</td>\n",
       "      <td>8.0</td>\n",
       "      <td>8.0 based on 37,064 user ratings</td>\n",
       "    </tr>\n",
       "  </tbody>\n",
       "</table>\n",
       "<p>250 rows × 5 columns</p>\n",
       "</div>"
      ],
      "text/plain": [
       "                            0  \\\n",
       "0    The Shawshank Redemption   \n",
       "1               The Godfather   \n",
       "2      The Godfather: Part II   \n",
       "3             The Dark Knight   \n",
       "4                12 Angry Men   \n",
       "..                        ...   \n",
       "245    La battaglia di Algeri   \n",
       "246       Le notti di Cabiria   \n",
       "247        The Princess Bride   \n",
       "248                  Drishyam   \n",
       "249                  Ratsasan   \n",
       "\n",
       "                                                     1       2    3  \\\n",
       "0    Frank Darabont (dir.), Tim Robbins, Morgan Fre...  (1994)  9.2   \n",
       "1    Francis Ford Coppola (dir.), Marlon Brando, Al...  (1972)  9.1   \n",
       "2    Francis Ford Coppola (dir.), Al Pacino, Robert...  (1974)  9.0   \n",
       "3    Christopher Nolan (dir.), Christian Bale, Heat...  (2008)  9.0   \n",
       "4        Sidney Lumet (dir.), Henry Fonda, Lee J. Cobb  (1957)  8.9   \n",
       "..                                                 ...     ...  ...   \n",
       "245  Gillo Pontecorvo (dir.), Brahim Hadjadj, Jean ...  (1966)  8.0   \n",
       "246  Federico Fellini (dir.), Giulietta Masina, Fra...  (1957)  8.0   \n",
       "247      Rob Reiner (dir.), Cary Elwes, Mandy Patinkin  (1987)  8.0   \n",
       "248              Jeethu Joseph (dir.), Mohanlal, Meena  (2013)  8.0   \n",
       "249        Ram Kumar (dir.), Vishnu Vishal, Amala Paul  (2018)  8.0   \n",
       "\n",
       "                                       4  \n",
       "0    9.2 based on 2,516,822 user ratings  \n",
       "1    9.1 based on 1,733,380 user ratings  \n",
       "2    9.0 based on 1,202,833 user ratings  \n",
       "3    9.0 based on 2,467,101 user ratings  \n",
       "4      8.9 based on 743,280 user ratings  \n",
       "..                                   ...  \n",
       "245     8.0 based on 57,765 user ratings  \n",
       "246     8.0 based on 47,047 user ratings  \n",
       "247    8.0 based on 414,694 user ratings  \n",
       "248     8.0 based on 38,919 user ratings  \n",
       "249     8.0 based on 37,064 user ratings  \n",
       "\n",
       "[250 rows x 5 columns]"
      ]
     },
     "execution_count": 87,
     "metadata": {},
     "output_type": "execute_result"
    }
   ],
   "source": [
    "top_250_movies_imdb = a.T\n",
    "top_250_movies_imdb"
   ]
  },
  {
   "cell_type": "code",
   "execution_count": 88,
   "id": "f7ded66d",
   "metadata": {},
   "outputs": [],
   "source": [
    "top_250_movies_imdb.columns = [\"title\",\"director_and_actors\",\"year\",\"ratings\",\"number_of_users_rated\"]"
   ]
  },
  {
   "cell_type": "code",
   "execution_count": 89,
   "id": "3a12459b",
   "metadata": {},
   "outputs": [
    {
     "data": {
      "text/html": [
       "<div>\n",
       "<style scoped>\n",
       "    .dataframe tbody tr th:only-of-type {\n",
       "        vertical-align: middle;\n",
       "    }\n",
       "\n",
       "    .dataframe tbody tr th {\n",
       "        vertical-align: top;\n",
       "    }\n",
       "\n",
       "    .dataframe thead th {\n",
       "        text-align: right;\n",
       "    }\n",
       "</style>\n",
       "<table border=\"1\" class=\"dataframe\">\n",
       "  <thead>\n",
       "    <tr style=\"text-align: right;\">\n",
       "      <th></th>\n",
       "      <th>title</th>\n",
       "      <th>director_and_actors</th>\n",
       "      <th>year</th>\n",
       "      <th>ratings</th>\n",
       "      <th>number_of_users_rated</th>\n",
       "    </tr>\n",
       "  </thead>\n",
       "  <tbody>\n",
       "    <tr>\n",
       "      <th>0</th>\n",
       "      <td>The Shawshank Redemption</td>\n",
       "      <td>Frank Darabont (dir.), Tim Robbins, Morgan Fre...</td>\n",
       "      <td>(1994)</td>\n",
       "      <td>9.2</td>\n",
       "      <td>9.2 based on 2,516,822 user ratings</td>\n",
       "    </tr>\n",
       "    <tr>\n",
       "      <th>1</th>\n",
       "      <td>The Godfather</td>\n",
       "      <td>Francis Ford Coppola (dir.), Marlon Brando, Al...</td>\n",
       "      <td>(1972)</td>\n",
       "      <td>9.1</td>\n",
       "      <td>9.1 based on 1,733,380 user ratings</td>\n",
       "    </tr>\n",
       "    <tr>\n",
       "      <th>2</th>\n",
       "      <td>The Godfather: Part II</td>\n",
       "      <td>Francis Ford Coppola (dir.), Al Pacino, Robert...</td>\n",
       "      <td>(1974)</td>\n",
       "      <td>9.0</td>\n",
       "      <td>9.0 based on 1,202,833 user ratings</td>\n",
       "    </tr>\n",
       "    <tr>\n",
       "      <th>3</th>\n",
       "      <td>The Dark Knight</td>\n",
       "      <td>Christopher Nolan (dir.), Christian Bale, Heat...</td>\n",
       "      <td>(2008)</td>\n",
       "      <td>9.0</td>\n",
       "      <td>9.0 based on 2,467,101 user ratings</td>\n",
       "    </tr>\n",
       "    <tr>\n",
       "      <th>4</th>\n",
       "      <td>12 Angry Men</td>\n",
       "      <td>Sidney Lumet (dir.), Henry Fonda, Lee J. Cobb</td>\n",
       "      <td>(1957)</td>\n",
       "      <td>8.9</td>\n",
       "      <td>8.9 based on 743,280 user ratings</td>\n",
       "    </tr>\n",
       "    <tr>\n",
       "      <th>...</th>\n",
       "      <td>...</td>\n",
       "      <td>...</td>\n",
       "      <td>...</td>\n",
       "      <td>...</td>\n",
       "      <td>...</td>\n",
       "    </tr>\n",
       "    <tr>\n",
       "      <th>245</th>\n",
       "      <td>La battaglia di Algeri</td>\n",
       "      <td>Gillo Pontecorvo (dir.), Brahim Hadjadj, Jean ...</td>\n",
       "      <td>(1966)</td>\n",
       "      <td>8.0</td>\n",
       "      <td>8.0 based on 57,765 user ratings</td>\n",
       "    </tr>\n",
       "    <tr>\n",
       "      <th>246</th>\n",
       "      <td>Le notti di Cabiria</td>\n",
       "      <td>Federico Fellini (dir.), Giulietta Masina, Fra...</td>\n",
       "      <td>(1957)</td>\n",
       "      <td>8.0</td>\n",
       "      <td>8.0 based on 47,047 user ratings</td>\n",
       "    </tr>\n",
       "    <tr>\n",
       "      <th>247</th>\n",
       "      <td>The Princess Bride</td>\n",
       "      <td>Rob Reiner (dir.), Cary Elwes, Mandy Patinkin</td>\n",
       "      <td>(1987)</td>\n",
       "      <td>8.0</td>\n",
       "      <td>8.0 based on 414,694 user ratings</td>\n",
       "    </tr>\n",
       "    <tr>\n",
       "      <th>248</th>\n",
       "      <td>Drishyam</td>\n",
       "      <td>Jeethu Joseph (dir.), Mohanlal, Meena</td>\n",
       "      <td>(2013)</td>\n",
       "      <td>8.0</td>\n",
       "      <td>8.0 based on 38,919 user ratings</td>\n",
       "    </tr>\n",
       "    <tr>\n",
       "      <th>249</th>\n",
       "      <td>Ratsasan</td>\n",
       "      <td>Ram Kumar (dir.), Vishnu Vishal, Amala Paul</td>\n",
       "      <td>(2018)</td>\n",
       "      <td>8.0</td>\n",
       "      <td>8.0 based on 37,064 user ratings</td>\n",
       "    </tr>\n",
       "  </tbody>\n",
       "</table>\n",
       "<p>250 rows × 5 columns</p>\n",
       "</div>"
      ],
      "text/plain": [
       "                        title  \\\n",
       "0    The Shawshank Redemption   \n",
       "1               The Godfather   \n",
       "2      The Godfather: Part II   \n",
       "3             The Dark Knight   \n",
       "4                12 Angry Men   \n",
       "..                        ...   \n",
       "245    La battaglia di Algeri   \n",
       "246       Le notti di Cabiria   \n",
       "247        The Princess Bride   \n",
       "248                  Drishyam   \n",
       "249                  Ratsasan   \n",
       "\n",
       "                                   director_and_actors    year ratings  \\\n",
       "0    Frank Darabont (dir.), Tim Robbins, Morgan Fre...  (1994)     9.2   \n",
       "1    Francis Ford Coppola (dir.), Marlon Brando, Al...  (1972)     9.1   \n",
       "2    Francis Ford Coppola (dir.), Al Pacino, Robert...  (1974)     9.0   \n",
       "3    Christopher Nolan (dir.), Christian Bale, Heat...  (2008)     9.0   \n",
       "4        Sidney Lumet (dir.), Henry Fonda, Lee J. Cobb  (1957)     8.9   \n",
       "..                                                 ...     ...     ...   \n",
       "245  Gillo Pontecorvo (dir.), Brahim Hadjadj, Jean ...  (1966)     8.0   \n",
       "246  Federico Fellini (dir.), Giulietta Masina, Fra...  (1957)     8.0   \n",
       "247      Rob Reiner (dir.), Cary Elwes, Mandy Patinkin  (1987)     8.0   \n",
       "248              Jeethu Joseph (dir.), Mohanlal, Meena  (2013)     8.0   \n",
       "249        Ram Kumar (dir.), Vishnu Vishal, Amala Paul  (2018)     8.0   \n",
       "\n",
       "                   number_of_users_rated  \n",
       "0    9.2 based on 2,516,822 user ratings  \n",
       "1    9.1 based on 1,733,380 user ratings  \n",
       "2    9.0 based on 1,202,833 user ratings  \n",
       "3    9.0 based on 2,467,101 user ratings  \n",
       "4      8.9 based on 743,280 user ratings  \n",
       "..                                   ...  \n",
       "245     8.0 based on 57,765 user ratings  \n",
       "246     8.0 based on 47,047 user ratings  \n",
       "247    8.0 based on 414,694 user ratings  \n",
       "248     8.0 based on 38,919 user ratings  \n",
       "249     8.0 based on 37,064 user ratings  \n",
       "\n",
       "[250 rows x 5 columns]"
      ]
     },
     "execution_count": 89,
     "metadata": {},
     "output_type": "execute_result"
    }
   ],
   "source": [
    "top_250_movies_imdb"
   ]
  },
  {
   "cell_type": "code",
   "execution_count": 90,
   "id": "aaba80bb",
   "metadata": {},
   "outputs": [],
   "source": [
    "top_250_movies_imdb.to_csv(\"top_250_movies.csv\",header=True)"
   ]
  },
  {
   "cell_type": "code",
   "execution_count": null,
   "id": "12874b10",
   "metadata": {},
   "outputs": [],
   "source": []
  }
 ],
 "metadata": {
  "kernelspec": {
   "display_name": "Python 3",
   "language": "python",
   "name": "python3"
  },
  "language_info": {
   "codemirror_mode": {
    "name": "ipython",
    "version": 3
   },
   "file_extension": ".py",
   "mimetype": "text/x-python",
   "name": "python",
   "nbconvert_exporter": "python",
   "pygments_lexer": "ipython3",
   "version": "3.8.8"
  }
 },
 "nbformat": 4,
 "nbformat_minor": 5
}
