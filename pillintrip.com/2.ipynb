{
 "cells": [
  {
   "cell_type": "raw",
   "id": "77643c23",
   "metadata": {},
   "source": [
    "Sitenin link ağacını 1. notebook da çözdükten sonra tüm linkleri for döngüsü ile işledik."
   ]
  },
  {
   "cell_type": "code",
   "execution_count": 77,
   "id": "184cd749",
   "metadata": {},
   "outputs": [
    {
     "name": "stderr",
     "output_type": "stream",
     "text": [
      "<ipython-input-77-74a57375313b>:11: DeprecationWarning: executable_path has been deprecated, please pass in a Service object\n",
      "  browser = webdriver.Chrome(executable_path=r'C:/Users/Joseph Forest/Documents/web scrapping/chromedriver.exe', options=options)\n"
     ]
    }
   ],
   "source": [
    "from selenium import webdriver\n",
    "from selenium.webdriver.chrome.options import Options\n",
    "from selenium.webdriver.common.keys import Keys\n",
    "from bs4 import BeautifulSoup\n",
    "import time\n",
    " \n",
    "#--| Setup\n",
    "options = Options()\n",
    "#options.add_argument(\"--headless\")\n",
    "#options.add_argument(\"--window-size=1980,1020\")\n",
    "browser = webdriver.Chrome(executable_path=r'C:/Users/Joseph Forest/Documents/web scrapping/chromedriver.exe', options=options)\n",
    "#--| Parse or automation\n",
    "\n",
    "\n",
    "\n",
    " \n",
    "\n",
    "\n",
    "\n"
   ]
  },
  {
   "cell_type": "code",
   "execution_count": 78,
   "id": "9fdb05a8",
   "metadata": {},
   "outputs": [],
   "source": [
    "letters = \"ABCDEFGHIJKLMNOPQRSTUVWXYZ\""
   ]
  },
  {
   "cell_type": "code",
   "execution_count": 79,
   "id": "6301aa6f",
   "metadata": {},
   "outputs": [],
   "source": [
    "links = []\n",
    "medicine = []\n",
    "\n",
    "for i in letters:\n",
    "    url = \"https://pillintrip.com/az_index/\"+i\n",
    "    browser.get(url)\n",
    "    time.sleep(2)\n",
    " \n",
    "    # Use Bs to Parse\n",
    "    soup = BeautifulSoup(browser.page_source, 'html.parser')\n",
    "    liste = soup.find(\"div\",{\"class\":\"res_block_list\"}).find_all(\"a\")\n",
    "    \n",
    "    \n",
    "    for link in liste:\n",
    "        links.append(link.get('href'))\n",
    "        medicine.append(link.text)\n"
   ]
  },
  {
   "cell_type": "code",
   "execution_count": 80,
   "id": "a6eda277",
   "metadata": {},
   "outputs": [],
   "source": [
    "import pandas as pd"
   ]
  },
  {
   "cell_type": "code",
   "execution_count": 105,
   "id": "95e2114c",
   "metadata": {},
   "outputs": [],
   "source": [
    "data = pd.DataFrame({'medicine':medicine, \"links\":links})"
   ]
  },
  {
   "cell_type": "code",
   "execution_count": 106,
   "id": "24287cc4",
   "metadata": {},
   "outputs": [],
   "source": [
    "data['links'] = data['links'].map(lambda x: \"https://pillintrip.com\"+x)"
   ]
  },
  {
   "cell_type": "code",
   "execution_count": 107,
   "id": "b4522a81",
   "metadata": {},
   "outputs": [
    {
     "data": {
      "text/html": [
       "<div>\n",
       "<style scoped>\n",
       "    .dataframe tbody tr th:only-of-type {\n",
       "        vertical-align: middle;\n",
       "    }\n",
       "\n",
       "    .dataframe tbody tr th {\n",
       "        vertical-align: top;\n",
       "    }\n",
       "\n",
       "    .dataframe thead th {\n",
       "        text-align: right;\n",
       "    }\n",
       "</style>\n",
       "<table border=\"1\" class=\"dataframe\">\n",
       "  <thead>\n",
       "    <tr style=\"text-align: right;\">\n",
       "      <th></th>\n",
       "      <th>medicine</th>\n",
       "      <th>links</th>\n",
       "    </tr>\n",
       "  </thead>\n",
       "  <tbody>\n",
       "    <tr>\n",
       "      <th>0</th>\n",
       "      <td>Abseamed</td>\n",
       "      <td>https://pillintrip.com/medicine/abseamed</td>\n",
       "    </tr>\n",
       "    <tr>\n",
       "      <th>1</th>\n",
       "      <td>Accutane</td>\n",
       "      <td>https://pillintrip.com/medicine/accutane</td>\n",
       "    </tr>\n",
       "    <tr>\n",
       "      <th>2</th>\n",
       "      <td>Abilify Discmelt (Oral)</td>\n",
       "      <td>https://pillintrip.com/medicine/abilify-discme...</td>\n",
       "    </tr>\n",
       "    <tr>\n",
       "      <th>3</th>\n",
       "      <td>Amuco 200</td>\n",
       "      <td>https://pillintrip.com/medicine/amuco-200</td>\n",
       "    </tr>\n",
       "    <tr>\n",
       "      <th>4</th>\n",
       "      <td>Aerius</td>\n",
       "      <td>https://pillintrip.com/medicine/aerius</td>\n",
       "    </tr>\n",
       "  </tbody>\n",
       "</table>\n",
       "</div>"
      ],
      "text/plain": [
       "                  medicine                                              links\n",
       "0                 Abseamed           https://pillintrip.com/medicine/abseamed\n",
       "1                 Accutane           https://pillintrip.com/medicine/accutane\n",
       "2  Abilify Discmelt (Oral)  https://pillintrip.com/medicine/abilify-discme...\n",
       "3                Amuco 200          https://pillintrip.com/medicine/amuco-200\n",
       "4                   Aerius             https://pillintrip.com/medicine/aerius"
      ]
     },
     "execution_count": 107,
     "metadata": {},
     "output_type": "execute_result"
    }
   ],
   "source": [
    "data.head()"
   ]
  },
  {
   "cell_type": "code",
   "execution_count": 108,
   "id": "91b0ed86",
   "metadata": {},
   "outputs": [
    {
     "data": {
      "text/plain": [
       "medicine    0\n",
       "links       0\n",
       "dtype: int64"
      ]
     },
     "execution_count": 108,
     "metadata": {},
     "output_type": "execute_result"
    }
   ],
   "source": [
    "data.isnull().sum()"
   ]
  },
  {
   "cell_type": "code",
   "execution_count": 109,
   "id": "7d160fb1",
   "metadata": {},
   "outputs": [
    {
     "data": {
      "text/plain": [
       "0"
      ]
     },
     "execution_count": 109,
     "metadata": {},
     "output_type": "execute_result"
    }
   ],
   "source": [
    "data.duplicated().sum()"
   ]
  },
  {
   "cell_type": "code",
   "execution_count": 110,
   "id": "83f1bf39",
   "metadata": {},
   "outputs": [
    {
     "data": {
      "text/html": [
       "<div>\n",
       "<style scoped>\n",
       "    .dataframe tbody tr th:only-of-type {\n",
       "        vertical-align: middle;\n",
       "    }\n",
       "\n",
       "    .dataframe tbody tr th {\n",
       "        vertical-align: top;\n",
       "    }\n",
       "\n",
       "    .dataframe thead th {\n",
       "        text-align: right;\n",
       "    }\n",
       "</style>\n",
       "<table border=\"1\" class=\"dataframe\">\n",
       "  <thead>\n",
       "    <tr style=\"text-align: right;\">\n",
       "      <th></th>\n",
       "      <th>medicine</th>\n",
       "      <th>links</th>\n",
       "    </tr>\n",
       "  </thead>\n",
       "  <tbody>\n",
       "    <tr>\n",
       "      <th>1812</th>\n",
       "      <td>Singulair</td>\n",
       "      <td>https://pillintrip.com/medicine/singulair</td>\n",
       "    </tr>\n",
       "    <tr>\n",
       "      <th>1466</th>\n",
       "      <td>Otozambon</td>\n",
       "      <td>https://pillintrip.com/medicine/otozambon</td>\n",
       "    </tr>\n",
       "    <tr>\n",
       "      <th>482</th>\n",
       "      <td>Etonox</td>\n",
       "      <td>https://pillintrip.com/medicine/etonox</td>\n",
       "    </tr>\n",
       "    <tr>\n",
       "      <th>2299</th>\n",
       "      <td>Welcet</td>\n",
       "      <td>https://pillintrip.com/medicine/welcet</td>\n",
       "    </tr>\n",
       "    <tr>\n",
       "      <th>1085</th>\n",
       "      <td>Ke Pai</td>\n",
       "      <td>https://pillintrip.com/medicine/ke-pai</td>\n",
       "    </tr>\n",
       "    <tr>\n",
       "      <th>832</th>\n",
       "      <td>Ibuprofeno Genfar</td>\n",
       "      <td>https://pillintrip.com/medicine/ibuprofeno-genfar</td>\n",
       "    </tr>\n",
       "    <tr>\n",
       "      <th>2475</th>\n",
       "      <td>Yihfu</td>\n",
       "      <td>https://pillintrip.com/medicine/yihfu</td>\n",
       "    </tr>\n",
       "    <tr>\n",
       "      <th>833</th>\n",
       "      <td>Inflamyl Fort</td>\n",
       "      <td>https://pillintrip.com/medicine/inflamyl-fort</td>\n",
       "    </tr>\n",
       "    <tr>\n",
       "      <th>1768</th>\n",
       "      <td>Rhinil</td>\n",
       "      <td>https://pillintrip.com/medicine/rhinil</td>\n",
       "    </tr>\n",
       "    <tr>\n",
       "      <th>1591</th>\n",
       "      <td>Pamax</td>\n",
       "      <td>https://pillintrip.com/medicine/pamax</td>\n",
       "    </tr>\n",
       "  </tbody>\n",
       "</table>\n",
       "</div>"
      ],
      "text/plain": [
       "               medicine                                              links\n",
       "1812          Singulair          https://pillintrip.com/medicine/singulair\n",
       "1466          Otozambon          https://pillintrip.com/medicine/otozambon\n",
       "482              Etonox             https://pillintrip.com/medicine/etonox\n",
       "2299             Welcet             https://pillintrip.com/medicine/welcet\n",
       "1085             Ke Pai             https://pillintrip.com/medicine/ke-pai\n",
       "832   Ibuprofeno Genfar  https://pillintrip.com/medicine/ibuprofeno-genfar\n",
       "2475              Yihfu              https://pillintrip.com/medicine/yihfu\n",
       "833       Inflamyl Fort      https://pillintrip.com/medicine/inflamyl-fort\n",
       "1768             Rhinil             https://pillintrip.com/medicine/rhinil\n",
       "1591              Pamax              https://pillintrip.com/medicine/pamax"
      ]
     },
     "execution_count": 110,
     "metadata": {},
     "output_type": "execute_result"
    }
   ],
   "source": [
    "data.sample(10)"
   ]
  },
  {
   "cell_type": "code",
   "execution_count": 111,
   "id": "460615ff",
   "metadata": {},
   "outputs": [],
   "source": [
    "data.to_csv(\"medicine_and_links.csv\",header = True)"
   ]
  },
  {
   "cell_type": "code",
   "execution_count": null,
   "id": "641d67cd",
   "metadata": {},
   "outputs": [],
   "source": []
  },
  {
   "cell_type": "code",
   "execution_count": null,
   "id": "3d9ddf63",
   "metadata": {},
   "outputs": [],
   "source": []
  }
 ],
 "metadata": {
  "kernelspec": {
   "display_name": "Python 3",
   "language": "python",
   "name": "python3"
  },
  "language_info": {
   "codemirror_mode": {
    "name": "ipython",
    "version": 3
   },
   "file_extension": ".py",
   "mimetype": "text/x-python",
   "name": "python",
   "nbconvert_exporter": "python",
   "pygments_lexer": "ipython3",
   "version": "3.8.8"
  }
 },
 "nbformat": 4,
 "nbformat_minor": 5
}
